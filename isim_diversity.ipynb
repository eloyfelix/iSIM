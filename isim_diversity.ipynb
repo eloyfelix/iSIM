{
 "cells": [
  {
   "cell_type": "code",
   "execution_count": 1,
   "metadata": {},
   "outputs": [
    {
     "name": "stdout",
     "output_type": "stream",
     "text": [
      "(2372674, 34)\n",
      "CPU times: user 3.32 s, sys: 1.06 s, total: 4.38 s\n",
      "Wall time: 2.76 s\n"
     ]
    }
   ],
   "source": [
    "%%time\n",
    "from FPSim2 import FPSim2Engine\n",
    "from div_isim import diversity\n",
    "import numpy as np\n",
    "\n",
    "# ECFP4 (Morgan, radius 2) 2048 bits\n",
    "# from: https://ftp.ebi.ac.uk/pub/databases/chembl/ChEMBLdb/latest/chembl_33.h5\n",
    "fp_filename = \"chembl_33.h5\"\n",
    "fpe = FPSim2Engine(fp_filename)\n",
    "print(fpe.fps.shape)"
   ]
  },
  {
   "cell_type": "code",
   "execution_count": 2,
   "metadata": {},
   "outputs": [
    {
     "name": "stdout",
     "output_type": "stream",
     "text": [
      "(2372674, 2048)\n",
      "CPU times: user 5.68 s, sys: 1.12 s, total: 6.81 s\n",
      "Wall time: 6.84 s\n"
     ]
    }
   ],
   "source": [
    "%%time\n",
    "# first and last columns are the id and the popcount\n",
    "fps = fpe.fps[:, 1:-1].view(\"uint8\")\n",
    "# FPSim2 packs fingerprints in groups of 64 bits, need to reshape the array\n",
    "bits = np.unpackbits(fps[:, np.newaxis], axis=1).ravel()\n",
    "fps = bits.reshape(int(bits.size / fpe.fp_params['nBits']), fpe.fp_params['nBits'])\n",
    "print(fps.shape)"
   ]
  },
  {
   "cell_type": "code",
   "execution_count": 3,
   "metadata": {},
   "outputs": [],
   "source": [
    "# It may take too long with whole ChEMBL, try with 10k random compounds\n",
    "idx = np.random.randint(fps.shape[0], size=10000)\n",
    "div_fps = fps[idx,:]"
   ]
  },
  {
   "cell_type": "code",
   "execution_count": 4,
   "metadata": {},
   "outputs": [
    {
     "name": "stdout",
     "output_type": "stream",
     "text": [
      "CPU times: user 2min 4s, sys: 322 ms, total: 2min 4s\n",
      "Wall time: 2min 4s\n"
     ]
    }
   ],
   "source": [
    "%%time\n",
    "res = diversity(div_fps, 1)"
   ]
  },
  {
   "cell_type": "code",
   "execution_count": 5,
   "metadata": {},
   "outputs": [
    {
     "data": {
      "text/plain": [
       "array([2284814, 1673875,  259214,  515591, 2226663,  657222,  314882,\n",
       "       1676149,  191333,  755686, 1673506, 1326212, 1363206,  429763,\n",
       "         67862, 1315841,  427931, 1316033,  374548,  453497, 1672488,\n",
       "       1480188,  284208, 1447040,  361880,  655895,   70448,  428038,\n",
       "       1214938,   66232, 1308700, 1328183,  230211, 2396959,  711923,\n",
       "       1382268, 1327956, 1734715,  786235, 2266285,   27855,  655919,\n",
       "       1829973, 2454489,  504216,  364691, 1325513,  115808, 1280526,\n",
       "        991320, 1864422,  811727, 1302204, 1329034, 2359730, 1294491,\n",
       "        428773,  761054,  275110,  108683, 1313125,  129516,  250973,\n",
       "        323721, 1829971,  144030,   33255, 1767997,  955205, 1475230,\n",
       "        259242,  154886, 1328292, 2185236,  301100, 1058050,  694674,\n",
       "        109171,  574723,   19469, 1383547, 1274393,  697333, 1488064,\n",
       "        669070, 1677857,  329531, 2409131, 1160335,  723538,  700657,\n",
       "       1231994, 1297006, 1736551,   29366,  882240,  775323, 2651941,\n",
       "       1339541, 1291606], dtype=uint64)"
      ]
     },
     "execution_count": 5,
     "metadata": {},
     "output_type": "execute_result"
    }
   ],
   "source": [
    "# translate the indexes to ChEMBL molregnos stored in FPSim2 database\n",
    "fpe.fps[:, 0][idx[res]]"
   ]
  }
 ],
 "metadata": {
  "kernelspec": {
   "display_name": "Python 3.10.8 64-bit ('notebooks')",
   "language": "python",
   "name": "python3"
  },
  "language_info": {
   "codemirror_mode": {
    "name": "ipython",
    "version": 3
   },
   "file_extension": ".py",
   "mimetype": "text/x-python",
   "name": "python",
   "nbconvert_exporter": "python",
   "pygments_lexer": "ipython3",
   "version": "3.10.8"
  },
  "orig_nbformat": 4,
  "vscode": {
   "interpreter": {
    "hash": "c16335b1e0dcad8ca99c594873d3c5172825fa36e5587f93b321990c947ad009"
   }
  }
 },
 "nbformat": 4,
 "nbformat_minor": 2
}
