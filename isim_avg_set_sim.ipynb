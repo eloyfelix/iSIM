{
 "cells": [
  {
   "cell_type": "code",
   "execution_count": 1,
   "id": "aefe86f4-532e-45e2-bdd4-bc4124454ee7",
   "metadata": {},
   "outputs": [
    {
     "name": "stdout",
     "output_type": "stream",
     "text": [
      "(2372674, 34)\n",
      "CPU times: user 3.3 s, sys: 1.06 s, total: 4.37 s\n",
      "Wall time: 2.72 s\n"
     ]
    }
   ],
   "source": [
    "%%time\n",
    "from FPSim2 import FPSim2Engine\n",
    "from isim_comp import gen_sim_dict\n",
    "import numpy as np\n",
    "\n",
    "# ECFP4 (Morgan, radius 2) 2048 bits\n",
    "# from: https://ftp.ebi.ac.uk/pub/databases/chembl/ChEMBLdb/latest/chembl_33.h5\n",
    "fp_filename = \"chembl_33.h5\"\n",
    "fpe = FPSim2Engine(fp_filename)\n",
    "print(fpe.fps.shape)"
   ]
  },
  {
   "cell_type": "markdown",
   "id": "1c0f826f",
   "metadata": {},
   "source": [
    "# FPSim2 packs fingerprints in groups of 64 bits, reshape the array\n",
    "memory inefficient, each uint64 converted to 64 uint8"
   ]
  },
  {
   "cell_type": "code",
   "execution_count": 2,
   "id": "44cffda8-f53f-4172-9594-fc53ba0e6da8",
   "metadata": {},
   "outputs": [
    {
     "name": "stdout",
     "output_type": "stream",
     "text": [
      "(2372674, 2048)\n",
      "CPU times: user 5.55 s, sys: 1.2 s, total: 6.75 s\n",
      "Wall time: 6.82 s\n"
     ]
    }
   ],
   "source": [
    "%%time\n",
    "# first and last columns are the id and the popcount\n",
    "fps = fpe.fps[:, 1:-1].view(\"uint8\")\n",
    "bits = np.unpackbits(fps[:, np.newaxis], axis=1).ravel()\n",
    "fps = bits.reshape(int(bits.size / (fps.shape[1]*8)), fps.shape[1]*8)\n",
    "print(fps.shape)"
   ]
  },
  {
   "cell_type": "code",
   "execution_count": 3,
   "id": "03873a23",
   "metadata": {},
   "outputs": [
    {
     "name": "stdout",
     "output_type": "stream",
     "text": [
      "CPU times: user 3.72 s, sys: 11.2 ms, total: 3.73 s\n",
      "Wall time: 3.76 s\n"
     ]
    },
    {
     "data": {
      "text/plain": [
       "{'AC': 0.8723258517530809,\n",
       " 'BUB': 0.649187629177515,\n",
       " 'Fai': 0.48261521369877647,\n",
       " 'Gle': 0.19851100403624725,\n",
       " 'Ja': 0.27088015980606983,\n",
       " 'JT': 0.11019273749715505,\n",
       " 'RT': 0.9236614311048624,\n",
       " 'RR': 0.004914421504193711,\n",
       " 'SM': 0.9603160058933592,\n",
       " 'SS1': 0.05830898191766747,\n",
       " 'SS2': 0.9797563280678535}"
      ]
     },
     "execution_count": 3,
     "metadata": {},
     "output_type": "execute_result"
    }
   ],
   "source": [
    "%%time\n",
    "gen_sim_dict(fps)"
   ]
  },
  {
   "cell_type": "markdown",
   "id": "5ab1a7a2",
   "metadata": {},
   "source": [
    "# Same but not duplicating FP array in memory\n",
    "Slower overall but memory efficient"
   ]
  },
  {
   "cell_type": "code",
   "execution_count": 5,
   "id": "158cd808",
   "metadata": {},
   "outputs": [
    {
     "name": "stdout",
     "output_type": "stream",
     "text": [
      "CPU times: user 15.9 s, sys: 41.6 ms, total: 16 s\n",
      "Wall time: 16 s\n"
     ]
    },
    {
     "data": {
      "text/plain": [
       "{'AC': 0.8723258517530809,\n",
       " 'BUB': 0.649187629177515,\n",
       " 'Fai': 0.48261521369877647,\n",
       " 'Gle': 0.19851100403624725,\n",
       " 'Ja': 0.27088015980606983,\n",
       " 'JT': 0.11019273749715505,\n",
       " 'RT': 0.9236614311048624,\n",
       " 'RR': 0.004914421504193711,\n",
       " 'SM': 0.9603160058933592,\n",
       " 'SS1': 0.05830898191766747,\n",
       " 'SS2': 0.9797563280678535}"
      ]
     },
     "execution_count": 5,
     "metadata": {},
     "output_type": "execute_result"
    }
   ],
   "source": [
    "%%time\n",
    "sc = np.zeros(((fpe.fps.shape[1]-2) * 64), dtype='uint64')\n",
    "for m in fpe.fps[:, 1:-1].view(\"uint8\"):\n",
    "    sc += np.unpackbits(m[:, np.newaxis], axis=1).ravel()\n",
    "\n",
    "gen_sim_dict(sc, n_objects=fpe.fps.shape[0])"
   ]
  }
 ],
 "metadata": {
  "kernelspec": {
   "display_name": "Python 3.10.8 64-bit ('notebooks')",
   "language": "python",
   "name": "python3"
  },
  "language_info": {
   "codemirror_mode": {
    "name": "ipython",
    "version": 3
   },
   "file_extension": ".py",
   "mimetype": "text/x-python",
   "name": "python",
   "nbconvert_exporter": "python",
   "pygments_lexer": "ipython3",
   "version": "3.10.8"
  },
  "vscode": {
   "interpreter": {
    "hash": "c16335b1e0dcad8ca99c594873d3c5172825fa36e5587f93b321990c947ad009"
   }
  }
 },
 "nbformat": 4,
 "nbformat_minor": 5
}
